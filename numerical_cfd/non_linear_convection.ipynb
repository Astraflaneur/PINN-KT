{
 "cells": [
  {
   "cell_type": "code",
   "execution_count": 1,
   "metadata": {},
   "outputs": [],
   "source": [
    "import numpy as np\n",
    "import matplotlib.pyplot as plt\n",
    "from matplotlib.animation import FuncAnimation\n",
    "import seaborn as sns"
   ]
  },
  {
   "cell_type": "code",
   "execution_count": 2,
   "metadata": {},
   "outputs": [],
   "source": [
    "sns.set_style(\"whitegrid\")\n",
    "\n",
    "nx = 81                        #number of spatial grid points\n",
    "dx = 2 / (nx-1)\n",
    "nt = 25                       #nt is the number of timesteps we want to calculate\n",
    "dt = .025                     #dt is the amount of time each timestep covers (delta t)\n",
    "c = 1                         #assume wavespeed of c = 1\n",
    "u = np.ones(nx)               #numpy function ones()\n",
    "u[int(.5 / dx):int(1 / dx + 1)] = 2  #setting u = 2 between 0.5 and 1 as per our I.C.s"
   ]
  },
  {
   "cell_type": "code",
   "execution_count": 3,
   "metadata": {},
   "outputs": [
    {
     "data": {
      "text/plain": [
       "Text(0, 0.5, 'u(x,t)')"
      ]
     },
     "execution_count": 3,
     "metadata": {},
     "output_type": "execute_result"
    },
    {
     "data": {
      "image/png": "[encoded data removed]",
      "text/plain": [
       "<Figure size 640x480 with 1 Axes>"
      ]
     },
     "metadata": {},
     "output_type": "display_data"
    }
   ],
   "source": [
    "fig, ax = plt.subplots()\n",
    "line, = ax.plot(np.linspace(0, 2, nx), u, 'b-')\n",
    "ax.set_xlim(0, 2)\n",
    "ax.set_ylim(-5, 5)\n",
    "ax.set_xlabel('x')\n",
    "ax.set_ylabel('u(x,t)')"
   ]
  },
  {
   "cell_type": "code",
   "execution_count": 5,
   "metadata": {},
   "outputs": [
    {
     "name": "stderr",
     "output_type": "stream",
     "text": [
      "MovieWriter ffmpeg unavailable; using Pillow instead.\n",
      "/var/folders/bx/vskb8z0x7571bn2pj28twrd80000gp/T/ipykernel_86472/291442849.py:7: RuntimeWarning: overflow encountered in scalar multiply\n",
      "  u[i] = un[i] - un[i] * dt / dx * (un[i] - un[i-1])\n",
      "/var/folders/bx/vskb8z0x7571bn2pj28twrd80000gp/T/ipykernel_86472/291442849.py:7: RuntimeWarning: invalid value encountered in scalar subtract\n",
      "  u[i] = un[i] - un[i] * dt / dx * (un[i] - un[i-1])\n"
     ]
    },
    {
     "name": "stdout",
     "output_type": "stream",
     "text": [
      "Animation saved to wave_equation.gif\n"
     ]
    }
   ],
   "source": [
    "def update(frame):\n",
    "    global u, un\n",
    "    # Update the temporary array with the current values of u\n",
    "    un = u.copy()\n",
    "    # Compute the new values of u based on the previous values and time step\n",
    "    for i in range(1, nx):\n",
    "        u[i] = un[i] - un[i] * dt / dx * (un[i] - un[i-1])\n",
    "    # Update the plot with the new values of u\n",
    "    line.set_ydata(u)\n",
    "\n",
    "ani = FuncAnimation(fig, update, frames=nt, interval=200, blit=False)\n",
    "ani.save('non_linear_wave_equation.gif')\n",
    "print(\"Animation saved to wave_equation.gif\")"
   ]
  },
  {
   "cell_type": "markdown",
   "metadata": {},
   "source": [
    "## Evolution of Non Linear Wave Equation\n",
    "\n",
    "![wave_equation](non_linear_wave_equation.gif)"
   ]
  }
 ],
 "metadata": {
  "kernelspec": {
   "display_name": "base",
   "language": "python",
   "name": "python3"
  },
  "language_info": {
   "codemirror_mode": {
    "name": "ipython",
    "version": 3
   },
   "file_extension": ".py",
   "mimetype": "text/x-python",
   "name": "python",
   "nbconvert_exporter": "python",
   "pygments_lexer": "ipython3",
   "version": "3.11.8"
  }
 },
 "nbformat": 4,
 "nbformat_minor": 2
}
